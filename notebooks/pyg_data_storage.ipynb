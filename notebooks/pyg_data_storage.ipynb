{
 "cells": [
  {
   "cell_type": "code",
   "execution_count": 29,
   "metadata": {},
   "outputs": [
    {
     "name": "stdout",
     "output_type": "stream",
     "text": [
      "The autoreload extension is already loaded. To reload it, use:\n",
      "  %reload_ext autoreload\n"
     ]
    }
   ],
   "source": [
    "%load_ext autoreload\n",
    "%autoreload 2"
   ]
  },
  {
   "cell_type": "code",
   "execution_count": 30,
   "metadata": {},
   "outputs": [],
   "source": [
    "from time import perf_counter\n",
    "import torch\n",
    "from gnn_scheduler.utils import get_data_path\n",
    "from torch_geometric.data import HeteroData, InMemoryDataset  # type: ignore[import-untyped]\n",
    "from torch_geometric.data.storage import (  # type: ignore[import-untyped]\n",
    "    BaseStorage,\n",
    "    NodeStorage,\n",
    "    EdgeStorage,\n",
    ")\n",
    "from torch_geometric.data.collate import collate\n",
    "from gnn_scheduler.data import (\n",
    "    JobShopData,\n",
    ")\n",
    "\n",
    "torch.serialization.add_safe_globals(\n",
    "    [\n",
    "        JobShopData,\n",
    "        HeteroData,\n",
    "        BaseStorage,\n",
    "        NodeStorage,\n",
    "        EdgeStorage,\n",
    "    ]\n",
    ")"
   ]
  },
  {
   "cell_type": "code",
   "execution_count": 31,
   "metadata": {},
   "outputs": [],
   "source": [
    "filename = \"instances10x10_eval_0.pt\"\n",
    "DATA_PATH = get_data_path()\n",
    "pt_file = DATA_PATH / \"processed\" / filename"
   ]
  },
  {
   "cell_type": "code",
   "execution_count": 32,
   "metadata": {},
   "outputs": [
    {
     "name": "stdout",
     "output_type": "stream",
     "text": [
      "Loading time: 97.88 seconds\n"
     ]
    }
   ],
   "source": [
    "start_time = perf_counter()\n",
    "data = torch.load(pt_file, weights_only=False)\n",
    "total_time = perf_counter() - start_time\n",
    "print(f\"Loading time: {total_time:.2f} seconds\")"
   ]
  },
  {
   "cell_type": "code",
   "execution_count": null,
   "metadata": {},
   "outputs": [],
   "source": [
    "class JobShopInMemoryDataset(InMemoryDataset):\n",
    "\n",
    "    def __init__(self, root, transform=None, pre_transform=None, filename: str = \"\"):\n",
    "        super().__init__(root, transform, pre_transform)\n",
    "        torch.serialization.add_safe_globals(\n",
    "            [\n",
    "                JobShopData,\n",
    "                HeteroData,\n",
    "                BaseStorage,\n",
    "                NodeStorage,\n",
    "                EdgeStorage,\n",
    "            ]\n",
    "        )\n",
    "        self.filename = filename\n",
    "        start_time = perf_counter()\n",
    "        self.load(self.processed_paths[0], data_cls=JobShopData)\n",
    "        total_time = perf_counter() - start_time\n",
    "        print(f\"Loading time: {total_time:.2f} seconds\")\n",
    "\n",
    "    @property\n",
    "    def raw_file_names(self):\n",
    "        return [self.filename]\n",
    "\n",
    "    @property\n",
    "    def processed_file_names(self):\n",
    "        return [f\"{self.filename}_processed.pt\"]\n",
    "\n",
    "    def process(self):\n",
    "        data_list = torch.load(self.raw_paths[0], weights_only=False)\n",
    "        self.save(data_list, self.processed_paths[0])"
   ]
  },
  {
   "cell_type": "code",
   "execution_count": 39,
   "metadata": {},
   "outputs": [
    {
     "name": "stderr",
     "output_type": "stream",
     "text": [
      "Processing...\n",
      "Done!\n"
     ]
    },
    {
     "name": "stdout",
     "output_type": "stream",
     "text": [
      "Loading time: 2.58 seconds\n"
     ]
    }
   ],
   "source": [
    "in_memory_dataset = JobShopInMemoryDataset(DATA_PATH)"
   ]
  },
  {
   "cell_type": "code",
   "execution_count": null,
   "metadata": {},
   "outputs": [
    {
     "name": "stdout",
     "output_type": "stream",
     "text": [
      "280\n",
      "290\n",
      "281\n",
      "285\n",
      "288\n",
      "289\n",
      "285\n",
      "305\n",
      "288\n",
      "286\n"
     ]
    }
   ],
   "source": [
    "from torch_geometric.loader import DataLoader\n",
    "\n",
    "loader = DataLoader(in_memory_dataset, batch_size=64, shuffle=True)\n",
    "\n",
    "i = 0\n",
    "mx = 10\n",
    "for batch in loader:\n",
    "    print(len(batch.y))\n",
    "    i += 1\n",
    "    if i >= mx:\n",
    "        break\n",
    "    "
   ]
  },
  {
   "cell_type": "code",
   "execution_count": null,
   "metadata": {},
   "outputs": [],
   "source": []
  }
 ],
 "metadata": {
  "kernelspec": {
   "display_name": ".venv",
   "language": "python",
   "name": "python3"
  },
  "language_info": {
   "codemirror_mode": {
    "name": "ipython",
    "version": 3
   },
   "file_extension": ".py",
   "mimetype": "text/x-python",
   "name": "python",
   "nbconvert_exporter": "python",
   "pygments_lexer": "ipython3",
   "version": "3.12.3"
  }
 },
 "nbformat": 4,
 "nbformat_minor": 2
}
